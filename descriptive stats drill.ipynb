{
 "cells": [
  {
   "cell_type": "code",
   "execution_count": 1,
   "metadata": {},
   "outputs": [],
   "source": [
    "import numpy as np\n",
    "import pandas as pd\n",
    "import matplotlib.pyplot as plt\n",
    "%matplotlib inline"
   ]
  },
  {
   "cell_type": "code",
   "execution_count": 2,
   "metadata": {},
   "outputs": [
    {
     "name": "stdout",
     "output_type": "stream",
     "text": [
      "mean: 1.9718768701511125\n",
      "Standard Deviation: 5.007763100208846\n"
     ]
    },
    {
     "data": {
      "image/png": "[encoded data removed]",
      "text/plain": [
       "<Figure size 432x288 with 1 Axes>"
      ]
     },
     "metadata": {
      "needs_background": "light"
     },
     "output_type": "display_data"
    }
   ],
   "source": [
    "#Graph of a Normal Distribution\n",
    "\n",
    "normal_dist = np.random.normal(2, 5, 100)\n",
    "normal_dist_mean = np.mean(normal_dist)\n",
    "normal_dist_std = np.std(normal_dist)\n",
    "print(\"mean: \" + str(normal_dist_mean))\n",
    "print(\"Standard Deviation: \" + str(normal_dist_std))\n",
    "\n",
    "\n",
    "plt.hist(normal_dist)\n",
    "plt.axvline(normal_dist.mean(), color='b', linestyle='solid', linewidth=2)\n",
    "plt.axvline(normal_dist.mean() + normal_dist.std(), color='b', linestyle='dashed', linewidth=2)\n",
    "plt.axvline(normal_dist.mean()- normal_dist.std(), color='b', linestyle='dashed', linewidth=2) \n",
    "plt.show()"
   ]
  },
  {
   "cell_type": "code",
   "execution_count": 23,
   "metadata": {},
   "outputs": [
    {
     "name": "stdout",
     "output_type": "stream",
     "text": [
      "mean: 2.963\n",
      "Standard Deviation: 1.7255813513132319\n"
     ]
    },
    {
     "data": {
      "image/png": "[encoded data removed]",
      "text/plain": [
       "<Figure size 432x288 with 1 Axes>"
      ]
     },
     "metadata": {
      "needs_background": "light"
     },
     "output_type": "display_data"
    }
   ],
   "source": [
    "#Graph of Poisson Distribution\n",
    "#The first argument for this random function represents the rate that events occur during a given time period.\n",
    "pdist = np.random.poisson(3, 1000)\n",
    "pdist_mean = np.mean(pdist)\n",
    "pdist_std = np.std(pdist)\n",
    "print(\"mean: \" + str(pdist_mean))\n",
    "print(\"Standard Deviation: \" + str(pdist_std))\n",
    "plt.hist(pdist)\n",
    "plt.axvline(pdist.mean(), color='b', linestyle='solid', linewidth=2)\n",
    "plt.axvline(pdist.mean() + pdist.std(), color='b', linestyle='dashed', linewidth=2)\n",
    "plt.axvline(pdist.mean()- pdist.std(), color='b', linestyle='dashed', linewidth=2) \n",
    "plt.show()"
   ]
  },
  {
   "cell_type": "code",
   "execution_count": 12,
   "metadata": {
    "scrolled": true
   },
   "outputs": [
    {
     "name": "stdout",
     "output_type": "stream",
     "text": [
      "mean: 2.36\n",
      "Standard Deviation: 1.0537551897855593\n"
     ]
    },
    {
     "data": {
      "image/png": "[encoded data removed]",
      "text/plain": [
       "<Figure size 432x288 with 1 Axes>"
      ]
     },
     "metadata": {
      "needs_background": "light"
     },
     "output_type": "display_data"
    }
   ],
   "source": [
    "#Graph of Binomial Distribution\n",
    "\n",
    "b_dist = np.random.binomial(5, .5, 100)\n",
    "b_dist_mean = np.mean(b_dist)\n",
    "b_dist_std = np.std(b_dist)\n",
    "print(\"mean: \" + str(b_dist_mean))\n",
    "print(\"Standard Deviation: \" + str(b_dist_std))\n",
    "plt.hist(b_dist)\n",
    "plt.axvline(b_dist.mean(), color='b', linestyle='solid', linewidth=2)\n",
    "plt.axvline(b_dist.mean() + b_dist.std(), color='b', linestyle='dashed', linewidth=2)\n",
    "plt.axvline(b_dist.mean()- b_dist.std(), color='b', linestyle='dashed', linewidth=2) \n",
    "plt.show()"
   ]
  },
  {
   "cell_type": "code",
   "execution_count": 13,
   "metadata": {},
   "outputs": [
    {
     "name": "stdout",
     "output_type": "stream",
     "text": [
      "mean: 2.9410844640905567\n",
      "Standard Deviation: 1.2236557221402269\n"
     ]
    },
    {
     "data": {
      "image/png": "[encoded data removed]",
      "text/plain": [
       "<Figure size 432x288 with 1 Axes>"
      ]
     },
     "metadata": {
      "needs_background": "light"
     },
     "output_type": "display_data"
    }
   ],
   "source": [
    "#Graph of Uniform Distribution\n",
    "\n",
    "udist = np.random.uniform(1, 5, 100)\n",
    "udist_mean = np.mean(udist)\n",
    "udist_std = np.std(udist)\n",
    "print(\"mean: \" + str(udist_mean))\n",
    "print(\"Standard Deviation: \" + str(udist_std))\n",
    "plt.hist(udist)\n",
    "plt.axvline(udist.mean(), color='b', linestyle='solid', linewidth=2)\n",
    "plt.axvline(udist.mean() + udist.std(), color='b', linestyle='dashed', linewidth=2)\n",
    "plt.axvline(udist.mean()- udist.std(), color='b', linestyle='dashed', linewidth=2) \n",
    "plt.show()"
   ]
  },
  {
   "cell_type": "code",
   "execution_count": 6,
   "metadata": {},
   "outputs": [
    {
     "name": "stdout",
     "output_type": "stream",
     "text": [
      "mean: 7.779590988084454\n",
      "Standard Deviation: 17.685321021488853\n"
     ]
    },
    {
     "data": {
      "image/png": "[encoded data removed]",
      "text/plain": [
       "<Figure size 432x288 with 1 Axes>"
      ]
     },
     "metadata": {
      "needs_background": "light"
     },
     "output_type": "display_data"
    }
   ],
   "source": [
    "#Graph of Wald Distribution\n",
    "\n",
    "wdist = np.random.wald(5, 1, 100)\n",
    "wdist_mean = np.mean(wdist)\n",
    "wdist_std = np.std(wdist)\n",
    "print(\"mean: \" + str(wdist_mean))\n",
    "print(\"Standard Deviation: \" + str(wdist_std))\n",
    "plt.hist(wdist)\n",
    "plt.axvline(wdist.mean(), color='b', linestyle='solid', linewidth=2)\n",
    "plt.axvline(wdist.mean() + wdist.std(), color='b', linestyle='dashed', linewidth=2)\n",
    "plt.axvline(wdist.mean()- wdist.std(), color='b', linestyle='dashed', linewidth=2) \n",
    "plt.show()"
   ]
  },
  {
   "cell_type": "code",
   "execution_count": 7,
   "metadata": {},
   "outputs": [
    {
     "name": "stdout",
     "output_type": "stream",
     "text": [
      "mean: 1.0\n",
      "Standard Deviation: 0.909945053286186\n"
     ]
    },
    {
     "data": {
      "image/png": "[encoded data removed]",
      "text/plain": [
       "<Figure size 432x288 with 1 Axes>"
      ]
     },
     "metadata": {
      "needs_background": "light"
     },
     "output_type": "display_data"
    }
   ],
   "source": [
    "#Graph of Mulitnomial Distribution\n",
    "\n",
    "mndist = np.random.multinomial(5, [1/5]*5, 100)\n",
    "mndist_mean = np.mean(mndist)\n",
    "mndist_std = np.std(mndist)\n",
    "print(\"mean: \" + str(mndist_mean))\n",
    "print(\"Standard Deviation: \" + str(mndist_std))\n",
    "plt.hist(mndist)\n",
    "plt.axvline(mndist.mean(), color='b', linestyle='solid', linewidth=2)\n",
    "plt.axvline(mndist.mean() + mndist.std(), color='b', linestyle='dashed', linewidth=2)\n",
    "plt.axvline(mndist.mean()- mndist.std(), color='b', linestyle='dashed', linewidth=2) \n",
    "plt.show()"
   ]
  },
  {
   "cell_type": "markdown",
   "metadata": {},
   "source": [
    "Whether the mean or the standard deviation will be useful will depend on which type of distribution is chosen"
   ]
  },
  {
   "cell_type": "markdown",
   "metadata": {},
   "source": [
    "Additionally:"
   ]
  },
  {
   "cell_type": "code",
   "execution_count": 8,
   "metadata": {},
   "outputs": [
    {
     "name": "stdout",
     "output_type": "stream",
     "text": [
      "mean: 14.854019070944128\n",
      "Standard Deviation: 1.1761200710253592\n"
     ]
    },
    {
     "data": {
      "image/png": "[encoded data removed]",
      "text/plain": [
       "<Figure size 432x288 with 1 Axes>"
      ]
     },
     "metadata": {
      "needs_background": "light"
     },
     "output_type": "display_data"
    }
   ],
   "source": [
    "var1 = np.random.normal(5,.5, 100)\n",
    "var2 = np.random.normal(10,1, 100)\n",
    "var3 = var1+var2\n",
    "\n",
    "var3_mean = np.mean(var3)\n",
    "var3_std = np.std(var3)\n",
    "print(\"mean: \" + str(var3_mean))\n",
    "print(\"Standard Deviation: \" + str(var3_std))\n",
    "plt.hist(var3)\n",
    "plt.axvline(var3.mean(), color='b', linestyle='solid', linewidth=2)\n",
    "plt.axvline(var3.mean() + var3.std(), color='b', linestyle='dashed', linewidth=2)\n",
    "plt.axvline(var3.mean()- var3.std(), color='b', linestyle='dashed', linewidth=2) \n",
    "plt.show()"
   ]
  },
  {
   "cell_type": "markdown",
   "metadata": {},
   "source": [
    "The result will depend on the random numbers of our data, and so will wary each time the experiment is conducted. But we can expect the distribution to stay normal as long as the datapoints are selected randomly independant of one another."
   ]
  }
 ],
 "metadata": {
  "kernelspec": {
   "display_name": "Python 3",
   "language": "python",
   "name": "python3"
  },
  "language_info": {
   "codemirror_mode": {
    "name": "ipython",
    "version": 3
   },
   "file_extension": ".py",
   "mimetype": "text/x-python",
   "name": "python",
   "nbconvert_exporter": "python",
   "pygments_lexer": "ipython3",
   "version": "3.7.0"
  }
 },
 "nbformat": 4,
 "nbformat_minor": 2
}
